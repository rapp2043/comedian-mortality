{
  "nbformat": 4,
  "nbformat_minor": 0,
  "metadata": {
    "colab": {
      "provenance": [],
      "authorship_tag": "ABX9TyMQe2Q4BJv0fjMjlQYX7ekU",
      "include_colab_link": true
    },
    "kernelspec": {
      "name": "python3",
      "display_name": "Python 3"
    },
    "language_info": {
      "name": "python"
    }
  },
  "cells": [
    {
      "cell_type": "markdown",
      "metadata": {
        "id": "view-in-github",
        "colab_type": "text"
      },
      "source": [
        "<a href=\"https://colab.research.google.com/github/rapp2043/comedian-mortality/blob/main/comedian_mortality.ipynb\" target=\"_parent\"><img src=\"https://colab.research.google.com/assets/colab-badge.svg\" alt=\"Open In Colab\"/></a>"
      ]
    },
    {
      "cell_type": "code",
      "source": [
        "# Web scraper program for list of comedians on Wikipedia\n",
        "import requests\n",
        "from bs4 import BeautifulSoup\n",
        "import csv\n",
        "\n",
        "def get_comedians_list(url):\n",
        "    response = requests.get(url)\n",
        "    soup = BeautifulSoup(response.text, 'html.parser')\n",
        "\n",
        "    comedians = []\n",
        "\n",
        "    # Find all the <a> tags within the <li> tags\n",
        "    for li_tag in soup.find_all('li'):\n",
        "        a_tag = li_tag.find('a')\n",
        "        if a_tag and 'href' in a_tag.attrs:\n",
        "            link = a_tag.attrs['href']\n",
        "            if link.startswith('/wiki/'):\n",
        "                # Construct the full URL\n",
        "                full_url = \"https://en.wikipedia.org\" + link\n",
        "                comedians.append({'name': a_tag.text, 'url': full_url})\n",
        "\n",
        "    return comedians\n",
        "\n",
        "def save_to_csv(data, filename):\n",
        "    with open(filename, 'w', newline='', encoding='utf-8') as csvfile:\n",
        "        fieldnames = ['name', 'url']\n",
        "        writer = csv.DictWriter(csvfile, fieldnames=fieldnames)\n",
        "\n",
        "        writer.writeheader()\n",
        "        for row in data:\n",
        "            writer.writerow(row)\n",
        "\n",
        "# URL of the Wikipedia page\n",
        "url = 'https://en.wikipedia.org/wiki/List_of_comedians'\n",
        "\n",
        "# Get the list of comedians and their URLs\n",
        "comedians_list = get_comedians_list(url)\n",
        "\n",
        "# Save the data to a CSV file\n",
        "save_to_csv(comedians_list, 'comedians.csv')\n",
        "\n",
        "print(\"CSV file has been created with the list of comedians.\")"
      ],
      "metadata": {
        "colab": {
          "base_uri": "https://localhost:8080/"
        },
        "id": "0GVYBHxcWo-h",
        "outputId": "659a2ff0-9a01-448f-99db-73820ff688d8"
      },
      "execution_count": null,
      "outputs": [
        {
          "output_type": "stream",
          "name": "stdout",
          "text": [
            "CSV file has been created with the list of comedians.\n"
          ]
        }
      ]
    }
  ]
}